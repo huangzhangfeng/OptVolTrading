{
 "cells": [
  {
   "cell_type": "code",
   "execution_count": 1,
   "metadata": {},
   "outputs": [
    {
     "name": "stdout",
     "output_type": "stream",
     "text": [
      "Populating the interactive namespace from numpy and matplotlib\n"
     ]
    }
   ],
   "source": [
    "%pylab inline --no-import-all\n",
    "import matplotlib.pyplot as plt\n",
    "import pandas as pd\n",
    "from pandas import DataFrame\n",
    "from pandas import Series"
   ]
  },
  {
   "cell_type": "markdown",
   "metadata": {},
   "source": [
    "<font face=\"黑体\" size=6>波动率曲面交易策略分析<font>"
   ]
  },
  {
   "cell_type": "markdown",
   "metadata": {},
   "source": [
    "## 波动率曲面交易机会"
   ]
  },
  {
   "cell_type": "code",
   "execution_count": 7,
   "metadata": {},
   "outputs": [
    {
     "name": "stdout",
     "output_type": "stream",
     "text": [
      "<class 'str'>\n"
     ]
    },
    {
     "data": {
      "text/html": [
       "<div>\n",
       "<style scoped>\n",
       "    .dataframe tbody tr th:only-of-type {\n",
       "        vertical-align: middle;\n",
       "    }\n",
       "\n",
       "    .dataframe tbody tr th {\n",
       "        vertical-align: top;\n",
       "    }\n",
       "\n",
       "    .dataframe thead th {\n",
       "        text-align: right;\n",
       "    }\n",
       "</style>\n",
       "<table border=\"1\" class=\"dataframe\">\n",
       "  <thead>\n",
       "    <tr style=\"text-align: right;\">\n",
       "      <th></th>\n",
       "      <th>datetime</th>\n",
       "      <th>opt_type</th>\n",
       "      <th>short_opt_code</th>\n",
       "      <th>short_opt_volume</th>\n",
       "      <th>short_opt_price</th>\n",
       "      <th>short_opt_delta</th>\n",
       "      <th>long_opt_code</th>\n",
       "      <th>long_opt_volume</th>\n",
       "      <th>long_opt_price</th>\n",
       "      <th>long_opt_delta</th>\n",
       "      <th>profit_spread</th>\n",
       "      <th>money_ocupied</th>\n",
       "      <th>expected_return</th>\n",
       "      <th>date</th>\n",
       "      <th>time</th>\n",
       "    </tr>\n",
       "  </thead>\n",
       "  <tbody>\n",
       "    <tr>\n",
       "      <th>0</th>\n",
       "      <td>2015-02-10 09:32:00</td>\n",
       "      <td>Call</td>\n",
       "      <td>10000041</td>\n",
       "      <td>16</td>\n",
       "      <td>0.0563</td>\n",
       "      <td>0.4133</td>\n",
       "      <td>10000001</td>\n",
       "      <td>10</td>\n",
       "      <td>0.1801</td>\n",
       "      <td>0.6770</td>\n",
       "      <td>383.7157</td>\n",
       "      <td>53253.2</td>\n",
       "      <td>0.0072</td>\n",
       "      <td>2015-02-10</td>\n",
       "      <td>09:32:00</td>\n",
       "    </tr>\n",
       "    <tr>\n",
       "      <th>1</th>\n",
       "      <td>2015-02-10 09:32:00</td>\n",
       "      <td>Put</td>\n",
       "      <td>10000042</td>\n",
       "      <td>10</td>\n",
       "      <td>0.1876</td>\n",
       "      <td>-0.5867</td>\n",
       "      <td>10000007</td>\n",
       "      <td>16</td>\n",
       "      <td>0.0761</td>\n",
       "      <td>-0.3754</td>\n",
       "      <td>946.0846</td>\n",
       "      <td>58758.0</td>\n",
       "      <td>0.0161</td>\n",
       "      <td>2015-02-10</td>\n",
       "      <td>09:32:00</td>\n",
       "    </tr>\n",
       "    <tr>\n",
       "      <th>2</th>\n",
       "      <td>2015-02-10 09:33:00</td>\n",
       "      <td>Call</td>\n",
       "      <td>10000041</td>\n",
       "      <td>15</td>\n",
       "      <td>0.0563</td>\n",
       "      <td>0.4154</td>\n",
       "      <td>10000002</td>\n",
       "      <td>10</td>\n",
       "      <td>0.1482</td>\n",
       "      <td>0.6267</td>\n",
       "      <td>280.3950</td>\n",
       "      <td>47860.5</td>\n",
       "      <td>0.0059</td>\n",
       "      <td>2015-02-10</td>\n",
       "      <td>09:33:00</td>\n",
       "    </tr>\n",
       "    <tr>\n",
       "      <th>3</th>\n",
       "      <td>2015-02-10 09:33:00</td>\n",
       "      <td>Put</td>\n",
       "      <td>10000042</td>\n",
       "      <td>10</td>\n",
       "      <td>0.1876</td>\n",
       "      <td>-0.5846</td>\n",
       "      <td>10000007</td>\n",
       "      <td>16</td>\n",
       "      <td>0.0761</td>\n",
       "      <td>-0.3733</td>\n",
       "      <td>952.2345</td>\n",
       "      <td>58758.0</td>\n",
       "      <td>0.0162</td>\n",
       "      <td>2015-02-10</td>\n",
       "      <td>09:33:00</td>\n",
       "    </tr>\n",
       "    <tr>\n",
       "      <th>4</th>\n",
       "      <td>2015-02-10 09:34:00</td>\n",
       "      <td>Call</td>\n",
       "      <td>10000041</td>\n",
       "      <td>14</td>\n",
       "      <td>0.0577</td>\n",
       "      <td>0.4143</td>\n",
       "      <td>10000003</td>\n",
       "      <td>10</td>\n",
       "      <td>0.1182</td>\n",
       "      <td>0.5721</td>\n",
       "      <td>517.7961</td>\n",
       "      <td>42657.8</td>\n",
       "      <td>0.0121</td>\n",
       "      <td>2015-02-10</td>\n",
       "      <td>09:34:00</td>\n",
       "    </tr>\n",
       "  </tbody>\n",
       "</table>\n",
       "</div>"
      ],
      "text/plain": [
       "              datetime opt_type short_opt_code  short_opt_volume  \\\n",
       "0  2015-02-10 09:32:00     Call       10000041                16   \n",
       "1  2015-02-10 09:32:00      Put       10000042                10   \n",
       "2  2015-02-10 09:33:00     Call       10000041                15   \n",
       "3  2015-02-10 09:33:00      Put       10000042                10   \n",
       "4  2015-02-10 09:34:00     Call       10000041                14   \n",
       "\n",
       "   short_opt_price  short_opt_delta long_opt_code  long_opt_volume  \\\n",
       "0           0.0563           0.4133      10000001               10   \n",
       "1           0.1876          -0.5867      10000007               16   \n",
       "2           0.0563           0.4154      10000002               10   \n",
       "3           0.1876          -0.5846      10000007               16   \n",
       "4           0.0577           0.4143      10000003               10   \n",
       "\n",
       "   long_opt_price  long_opt_delta  profit_spread  money_ocupied  \\\n",
       "0          0.1801          0.6770       383.7157        53253.2   \n",
       "1          0.0761         -0.3754       946.0846        58758.0   \n",
       "2          0.1482          0.6267       280.3950        47860.5   \n",
       "3          0.0761         -0.3733       952.2345        58758.0   \n",
       "4          0.1182          0.5721       517.7961        42657.8   \n",
       "\n",
       "   expected_return        date       time  \n",
       "0           0.0072  2015-02-10   09:32:00  \n",
       "1           0.0161  2015-02-10   09:32:00  \n",
       "2           0.0059  2015-02-10   09:33:00  \n",
       "3           0.0162  2015-02-10   09:33:00  \n",
       "4           0.0121  2015-02-10   09:34:00  "
      ]
     },
     "execution_count": 7,
     "metadata": {},
     "output_type": "execute_result"
    }
   ],
   "source": [
    "# 波动率曲面策略交易机会文件路径\n",
    "trade_chance_filepath = '~/Dropbox/OptVolTrading/data/trade_chance_VolSurfaceTrade.csv'\n",
    "# 导入交易机会数据\n",
    "vs_trade_chances = pd.read_csv(trade_chance_filepath, header=0, dtype={'short_opt_code': str, 'long_opt_code': str})\n",
    "vs_trade_chances['date'] = vs_trade_chances.apply(lambda x: x['datetime'][:10], axis=1)\n",
    "vs_trade_chances['time'] = vs_trade_chances.apply(lambda x: x['datetime'][10:], axis=1)\n",
    "# print(type(vs_trade_chances.iloc[0]['short_opt_code']))\n",
    "vs_trade_chances.head()"
   ]
  },
  {
   "cell_type": "code",
   "execution_count": 3,
   "metadata": {},
   "outputs": [
    {
     "name": "stdout",
     "output_type": "stream",
     "text": [
      "median of expected return: 2.04%\n",
      "average of expected return: 3.60%\n"
     ]
    },
    {
     "data": {
      "text/plain": [
       "<matplotlib.axes._subplots.AxesSubplot at 0x112831a58>"
      ]
     },
     "execution_count": 3,
     "metadata": {},
     "output_type": "execute_result"
    },
    {
     "data": {
      "image/png": "[encoded data removed]",
      "text/plain": [
       "<matplotlib.figure.Figure at 0x1127e1da0>"
      ]
     },
     "metadata": {},
     "output_type": "display_data"
    }
   ],
   "source": [
    "sample_trade_chances = vs_trade_chances[(vs_trade_chances.date >= '2015-01-01') & (vs_trade_chances.date <= '2015-05-31')]\n",
    "print('median of expected return: %0.2f%%' % (sample_trade_chances['expected_return'].median()*100))\n",
    "print('average of expected return: %0.2f%%' % (sample_trade_chances['expected_return'].mean()*100))\n",
    "sample_trade_chances['expected_return'].plot()"
   ]
  },
  {
   "cell_type": "markdown",
   "metadata": {},
   "source": [
    "## 曲面交易机会的收敛情况"
   ]
  },
  {
   "cell_type": "markdown",
   "metadata": {},
   "source": [
    "计算持仓套利对在建仓后的5天内的收敛情况"
   ]
  },
  {
   "cell_type": "code",
   "execution_count": 32,
   "metadata": {},
   "outputs": [
    {
     "data": {
      "text/html": [
       "<div>\n",
       "<style scoped>\n",
       "    .dataframe tbody tr th:only-of-type {\n",
       "        vertical-align: middle;\n",
       "    }\n",
       "\n",
       "    .dataframe tbody tr th {\n",
       "        vertical-align: top;\n",
       "    }\n",
       "\n",
       "    .dataframe thead th {\n",
       "        text-align: right;\n",
       "    }\n",
       "</style>\n",
       "<table border=\"1\" class=\"dataframe\">\n",
       "  <thead>\n",
       "    <tr style=\"text-align: right;\">\n",
       "      <th></th>\n",
       "      <th>day0</th>\n",
       "      <th>day1</th>\n",
       "      <th>day2</th>\n",
       "      <th>day3</th>\n",
       "      <th>day4</th>\n",
       "      <th>day5</th>\n",
       "    </tr>\n",
       "  </thead>\n",
       "  <tbody>\n",
       "    <tr>\n",
       "      <th>0</th>\n",
       "      <td>4.6024</td>\n",
       "      <td>6.8071</td>\n",
       "      <td>9.1526</td>\n",
       "      <td>13.1191</td>\n",
       "      <td>14.2553</td>\n",
       "      <td>14.4847</td>\n",
       "    </tr>\n",
       "    <tr>\n",
       "      <th>1</th>\n",
       "      <td>0.4566</td>\n",
       "      <td>0.4376</td>\n",
       "      <td>0.0571</td>\n",
       "      <td>-0.0846</td>\n",
       "      <td>0.1078</td>\n",
       "      <td>0.9344</td>\n",
       "    </tr>\n",
       "    <tr>\n",
       "      <th>2</th>\n",
       "      <td>3.1563</td>\n",
       "      <td>6.3482</td>\n",
       "      <td>8.8625</td>\n",
       "      <td>14.1229</td>\n",
       "      <td>14.4796</td>\n",
       "      <td>14.4439</td>\n",
       "    </tr>\n",
       "    <tr>\n",
       "      <th>3</th>\n",
       "      <td>0.4537</td>\n",
       "      <td>0.4348</td>\n",
       "      <td>0.0567</td>\n",
       "      <td>-0.0840</td>\n",
       "      <td>0.1071</td>\n",
       "      <td>0.9283</td>\n",
       "    </tr>\n",
       "    <tr>\n",
       "      <th>4</th>\n",
       "      <td>2.3561</td>\n",
       "      <td>3.1171</td>\n",
       "      <td>3.8316</td>\n",
       "      <td>5.9135</td>\n",
       "      <td>5.8247</td>\n",
       "      <td>5.9831</td>\n",
       "    </tr>\n",
       "  </tbody>\n",
       "</table>\n",
       "</div>"
      ],
      "text/plain": [
       "     day0    day1    day2     day3     day4     day5\n",
       "0  4.6024  6.8071  9.1526  13.1191  14.2553  14.4847\n",
       "1  0.4566  0.4376  0.0571  -0.0846   0.1078   0.9344\n",
       "2  3.1563  6.3482  8.8625  14.1229  14.4796  14.4439\n",
       "3  0.4537  0.4348  0.0567  -0.0840   0.1071   0.9283\n",
       "4  2.3561  3.1171  3.8316   5.9135   5.8247   5.9831"
      ]
     },
     "execution_count": 32,
     "metadata": {},
     "output_type": "execute_result"
    }
   ],
   "source": [
    "trading_days = pd.read_csv('/Users/davidyujun/Dropbox/OptVolTrading/data/tradingdays.csv', header=0)\n",
    "pre_trading_day = trading_days.iloc[0]['tradingday']\n",
    "df_tradechance_convergence = DataFrame()\n",
    "t = 0\n",
    "for _, trade_chance in vs_trade_chances.head().iterrows():\n",
    "    t +=1\n",
    "    if t % 10000 == 0:\n",
    "        print(t)\n",
    "    trading_day = trade_chance['datetime'][:10]\n",
    "    short_opt_code = trade_chance['short_opt_code']\n",
    "    short_opt_vol = trade_chance['short_opt_volume']\n",
    "    short_opt_cost = trade_chance['short_opt_price']\n",
    "    long_opt_code = trade_chance['long_opt_code']\n",
    "    long_opt_vol = trade_chance['long_opt_volume']\n",
    "    long_opt_cost = trade_chance['long_opt_price']\n",
    "    profit_spread = trade_chance['profit_spread']\n",
    "    if trading_day != pre_trading_day:\n",
    "        holding_days = trading_days[trading_days.tradingday >= trading_day].head(6)\n",
    "        pre_trading_day = trading_day\n",
    "    ser_tradechance_convergence = Series()\n",
    "    k = 0\n",
    "    for holding_day in list(holding_days['tradingday']):\n",
    "        opt_quote_path = '/Users/davidyujun/Dropbox/opt_quote/%s/50OptionDailyQuote.csv' % holding_day\n",
    "        df_opt_quote = pd.read_csv(opt_quote_path, header=0, dtype={'option_code': str}, encoding='GB2312')\n",
    "        df_opt_quote.set_index('option_code', inplace=True)\n",
    "        if short_opt_code not in df_opt_quote.index:\n",
    "            print(short_opt_code, ' not at day: ', holding_day)\n",
    "            ser_tradechance_convergence = Series()\n",
    "            break\n",
    "        if long_opt_code not in df_opt_quote.index:\n",
    "            print(long_opt_code, ' not at day: ', holding_day)\n",
    "            ser_tradechance_convergence = Series()\n",
    "            break\n",
    "        short_opt_close = df_opt_quote.loc[short_opt_code, 'close']\n",
    "        long_opt_close = df_opt_quote.loc[long_opt_code, 'close']\n",
    "        realized_profit_amount = (short_opt_vol * (short_opt_cost - short_opt_close) + long_opt_vol * (long_opt_close - long_opt_cost)) * 10000\n",
    "        realized_profit_ratio = round(realized_profit_amount / profit_spread, 4)\n",
    "        day_label = 'day' + str(k)\n",
    "        ser_tradechance_convergence[day_label] = realized_profit_ratio\n",
    "        k += 1\n",
    "    if len(ser_tradechance_convergence) > 0:\n",
    "        df_tradechance_convergence = df_tradechance_convergence.append(ser_tradechance_convergence, ignore_index=True)\n",
    "# df_tradechance_convergence.to_csv('/Users/davidyujun/Dropbox/OptVolTrading/data/trade_chance_convergence.csv', index=False)\n",
    "df_tradechance_convergence"
   ]
  },
  {
   "cell_type": "code",
   "execution_count": 43,
   "metadata": {},
   "outputs": [
    {
     "name": "stdout",
     "output_type": "stream",
     "text": [
      "     day0    day1    day2     day3     day4     day5\n",
      "0  4.6024  6.8071  9.1526  13.1191  14.2553  14.4847\n",
      "1  0.4566  0.4376  0.0571  -0.0846   0.1078   0.9344\n",
      "2  3.1563  6.3482  8.8625  14.1229  14.4796  14.4439\n",
      "3  0.4537  0.4348  0.0567  -0.0840   0.1071   0.9283\n",
      "4  2.3561  3.1171  3.8316   5.9135   5.8247   5.9831\n"
     ]
    },
    {
     "data": {
      "text/plain": [
       "day0    0.112597\n",
       "day1    0.146459\n",
       "day2    0.092686\n",
       "day3    0.070932\n",
       "day4    0.055679\n",
       "day5    0.088515\n",
       "dtype: float64"
      ]
     },
     "execution_count": 43,
     "metadata": {},
     "output_type": "execute_result"
    }
   ],
   "source": [
    "tradechance_convergency_path = '/Users/davidyujun/Dropbox/OptVolTrading/data/trade_chance_convergence.csv'\n",
    "df_tradechance_convergence = pd.read_csv(tradechance_convergency_path,usecols=range(3,9),header=0)\n",
    "print(df_tradechance_convergence.head())\n",
    "df_tradechance_convergence.mean()"
   ]
  }
 ],
 "metadata": {
  "kernelspec": {
   "display_name": "Python 3",
   "language": "python",
   "name": "python3"
  },
  "language_info": {
   "codemirror_mode": {
    "name": "ipython",
    "version": 3
   },
   "file_extension": ".py",
   "mimetype": "text/x-python",
   "name": "python",
   "nbconvert_exporter": "python",
   "pygments_lexer": "ipython3",
   "version": "3.6.3"
  },
  "toc": {
   "nav_menu": {},
   "number_sections": true,
   "sideBar": true,
   "skip_h1_title": false,
   "toc_cell": false,
   "toc_position": {},
   "toc_section_display": "block",
   "toc_window_display": true
  }
 },
 "nbformat": 4,
 "nbformat_minor": 2
}
